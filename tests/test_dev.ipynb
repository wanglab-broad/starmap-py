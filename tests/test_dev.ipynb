{
 "cells": [
  {
   "cell_type": "code",
   "execution_count": 3,
   "id": "3c36728b-f867-48ab-814a-6aa776ee209b",
   "metadata": {},
   "outputs": [],
   "source": [
    "import os\n",
    "import numpy as np\n",
    "import pandas as pd\n",
    "import seaborn as sns\n",
    "import matplotlib.pyplot as plt\n",
    "import scanpy as sc \n",
    "\n",
    "import starmap as sm"
   ]
  },
  {
   "cell_type": "code",
   "execution_count": 4,
   "id": "636478a8-5d5e-4299-921f-1ac26ad94be7",
   "metadata": {},
   "outputs": [
    {
     "name": "stdout",
     "output_type": "stream",
     "text": [
      "tools module is loaded!\n",
      "reads-assignment module is loaded!\n"
     ]
    }
   ],
   "source": [
    "sm.tl.test()\n",
    "sm.pp.test()"
   ]
  },
  {
   "cell_type": "code",
   "execution_count": 4,
   "id": "79a228d6-de61-42d2-bff9-f6dd70f65695",
   "metadata": {},
   "outputs": [
    {
     "data": {
      "text/plain": [
       "[0, 1, 2, 3]"
      ]
     },
     "execution_count": 4,
     "metadata": {},
     "output_type": "execute_result"
    }
   ],
   "source": [
    "sm.tl.colors"
   ]
  },
  {
   "cell_type": "code",
   "execution_count": 5,
   "id": "2d89ccd7",
   "metadata": {},
   "outputs": [
    {
     "name": "stdout",
     "output_type": "stream",
     "text": [
      "pp-test\n"
     ]
    }
   ],
   "source": [
    "sm.pp.test()"
   ]
  },
  {
   "cell_type": "code",
   "execution_count": null,
   "id": "fc539c96",
   "metadata": {},
   "outputs": [],
   "source": [
    "print()"
   ]
  }
 ],
 "metadata": {
  "kernelspec": {
   "display_name": "Python 3 (ipykernel)",
   "language": "python",
   "name": "python3"
  },
  "language_info": {
   "codemirror_mode": {
    "name": "ipython",
    "version": 3
   },
   "file_extension": ".py",
   "mimetype": "text/x-python",
   "name": "python",
   "nbconvert_exporter": "python",
   "pygments_lexer": "ipython3",
   "version": "3.9.17"
  }
 },
 "nbformat": 4,
 "nbformat_minor": 5
}
