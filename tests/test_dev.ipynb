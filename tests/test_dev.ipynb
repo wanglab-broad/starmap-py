{
 "cells": [
  {
   "cell_type": "code",
   "execution_count": 2,
   "id": "3c36728b-f867-48ab-814a-6aa776ee209b",
   "metadata": {},
   "outputs": [],
   "source": [
    "import starmap as sm"
   ]
  },
  {
   "cell_type": "code",
   "execution_count": 2,
   "id": "fd82d407-cf9c-4dd6-9a88-9c4d6c0e0fd5",
   "metadata": {},
   "outputs": [],
   "source": [
    "import numpy as np"
   ]
  },
  {
   "cell_type": "code",
   "execution_count": 5,
   "id": "9425addb-3180-46c0-b105-14601983951e",
   "metadata": {},
   "outputs": [
    {
     "data": {
      "text/plain": [
       "[]"
      ]
     },
     "execution_count": 5,
     "metadata": {},
     "output_type": "execute_result"
    }
   ],
   "source": [
    "from setuptools import find_packages\n",
    "\n",
    "find_packages(where='src')"
   ]
  },
  {
   "cell_type": "code",
   "execution_count": 4,
   "id": "567ea856-ca81-46c9-b5b1-dae2af5208ea",
   "metadata": {},
   "outputs": [
    {
     "ename": "ModuleNotFoundError",
     "evalue": "No module named 'starmap'",
     "output_type": "error",
     "traceback": [
      "\u001b[0;31m---------------------------------------------------------------------------\u001b[0m",
      "\u001b[0;31mModuleNotFoundError\u001b[0m                       Traceback (most recent call last)",
      "Cell \u001b[0;32mIn[4], line 1\u001b[0m\n\u001b[0;32m----> 1\u001b[0m \u001b[38;5;28;01mimport\u001b[39;00m \u001b[38;5;21;01mstarmap\u001b[39;00m\n",
      "\u001b[0;31mModuleNotFoundError\u001b[0m: No module named 'starmap'"
     ]
    }
   ],
   "source": [
    "import starmap"
   ]
  },
  {
   "cell_type": "code",
   "execution_count": null,
   "id": "636478a8-5d5e-4299-921f-1ac26ad94be7",
   "metadata": {},
   "outputs": [],
   "source": []
  },
  {
   "cell_type": "code",
   "execution_count": null,
   "id": "79a228d6-de61-42d2-bff9-f6dd70f65695",
   "metadata": {},
   "outputs": [],
   "source": []
  }
 ],
 "metadata": {
  "kernelspec": {
   "display_name": "Python 3 (ipykernel)",
   "language": "python",
   "name": "python3"
  },
  "language_info": {
   "codemirror_mode": {
    "name": "ipython",
    "version": 3
   },
   "file_extension": ".py",
   "mimetype": "text/x-python",
   "name": "python",
   "nbconvert_exporter": "python",
   "pygments_lexer": "ipython3",
   "version": "3.9.17"
  }
 },
 "nbformat": 4,
 "nbformat_minor": 5
}
