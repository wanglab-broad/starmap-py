{
 "cells": [
  {
   "cell_type": "code",
   "execution_count": 2,
   "id": "34c54c09-5fe4-42a6-b538-6c1f6d1ecd64",
   "metadata": {},
   "outputs": [
    {
     "data": {
      "text/plain": [
       "['starmap',\n",
       " 'starmap.tools',\n",
       " 'starmap.archive',\n",
       " 'starmap.plotting',\n",
       " 'starmap.preprocessing']"
      ]
     },
     "execution_count": 2,
     "metadata": {},
     "output_type": "execute_result"
    }
   ],
   "source": [
    "from setuptools import find_packages\n",
    "find_packages(where='src')"
   ]
  },
  {
   "cell_type": "code",
   "execution_count": 3,
   "id": "637ca85f-ecfd-4adc-891b-3b57eed43533",
   "metadata": {},
   "outputs": [],
   "source": [
    "import starmap as sm"
   ]
  },
  {
   "cell_type": "code",
   "execution_count": 1,
   "id": "e9327c47-e0c0-40fb-862b-e4db6bc06210",
   "metadata": {},
   "outputs": [
    {
     "data": {
      "text/plain": [
       "'/Users/jiahao/Desktop/GitHub/wanglab-broad/starmap-py'"
      ]
     },
     "execution_count": 1,
     "metadata": {},
     "output_type": "execute_result"
    }
   ],
   "source": [
    "pwd"
   ]
  },
  {
   "cell_type": "code",
   "execution_count": null,
   "id": "dc2d65ea-095c-4135-b497-ef30e6c041b2",
   "metadata": {},
   "outputs": [],
   "source": []
  }
 ],
 "metadata": {
  "kernelspec": {
   "display_name": "Python 3 (ipykernel)",
   "language": "python",
   "name": "python3"
  },
  "language_info": {
   "codemirror_mode": {
    "name": "ipython",
    "version": 3
   },
   "file_extension": ".py",
   "mimetype": "text/x-python",
   "name": "python",
   "nbconvert_exporter": "python",
   "pygments_lexer": "ipython3",
   "version": "3.9.17"
  }
 },
 "nbformat": 4,
 "nbformat_minor": 5
}
